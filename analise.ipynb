{
 "cells": [
  {
   "cell_type": "code",
   "execution_count": 10,
   "metadata": {},
   "outputs": [
    {
     "data": {
      "text/plain": [
       "0.4083233082706765"
      ]
     },
     "execution_count": 10,
     "metadata": {},
     "output_type": "execute_result"
    },
    {
     "data": {
      "image/png": "[encoded data removed]",
      "text/plain": [
       "<Figure size 432x288 with 1 Axes>"
      ]
     },
     "metadata": {
      "needs_background": "light"
     },
     "output_type": "display_data"
    }
   ],
   "source": [
    "import numpy as np\n",
    "import matplotlib.pyplot as plt\n",
    "\n",
    "\n",
    "x = np.array([1, 2, 3, 4, 5, 6, 7, 8, 9, 10, 11, 12, 13, 14, 15, 16, 17, 18, 19, 20])\n",
    "y = np.array([107.17, 107.77, 107.92, 105.88, 105.89, 105.45, 104.64, 104.27, 103.24, 104.68, 106.58, 110.7, 109.27, 109.54, 111.1, 109.7, 110.02, 111.27, 114, 115.42])\n",
    "def LineEquation(w0, w1, x):\n",
    "    return w0 + w1 * x\n",
    "def MSE(w0, w1, x, y):\n",
    "    return np.sum((LineEquation(w0, w1, x) - y)**2)/len(x)\n",
    "\n",
    "\n",
    "xSum = sum(x)\n",
    "ySum = sum(y)\n",
    "xYMultiplication = sum(x*y)\n",
    "xPotential = sum(x**2)\n",
    "xAverage = xSum/len(x)\n",
    "yAverage = ySum/len(y)\n",
    "a = (xYMultiplication - (yAverage * xSum))/(xPotential - (xAverage * xSum))\n",
    "b = yAverage -a * xAverage\n",
    "\n",
    "\n",
    "plt.scatter(x, y)\n",
    "plt.plot(x, LineEquation(b, a, x))\n",
    "plt.ylabel(\"Yen\")\n",
    "plt.xlabel(\"Month\")\n",
    "\n",
    "april2022 = 25\n",
    "Yen = a * april2022 + b"
   ]
  },
  {
   "cell_type": "code",
   "execution_count": 14,
   "metadata": {},
   "outputs": [
    {
     "name": "stdout",
     "output_type": "stream",
     "text": [
      "114\n"
     ]
    },
    {
     "data": {
      "text/plain": [
       "4.74"
      ]
     },
     "execution_count": 14,
     "metadata": {},
     "output_type": "execute_result"
    }
   ],
   "source": [
    "print(round(Yen))\n",
    "round(MSE(b, a, x, y), 3)\n"
   ]
  }
 ],
 "metadata": {
  "interpreter": {
   "hash": "03580937e72b102fde5c86e059aedef1c901ca3cf5d16e0679620e5be06c394d"
  },
  "kernelspec": {
   "display_name": "Python 3.9.9 64-bit (windows store)",
   "language": "python",
   "name": "python3"
  },
  "language_info": {
   "codemirror_mode": {
    "name": "ipython",
    "version": 3
   },
   "file_extension": ".py",
   "mimetype": "text/x-python",
   "name": "python",
   "nbconvert_exporter": "python",
   "pygments_lexer": "ipython3",
   "version": "3.9.9"
  },
  "orig_nbformat": 4
 },
 "nbformat": 4,
 "nbformat_minor": 2
}
